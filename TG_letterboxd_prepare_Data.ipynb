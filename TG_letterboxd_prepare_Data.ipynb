{
  "nbformat": 4,
  "nbformat_minor": 0,
  "metadata": {
    "colab": {
      "name": "TG_letterboxd_prepare_Data.ipynb",
      "provenance": [],
      "authorship_tag": "ABX9TyM1bazRx/LHcWe2aKsjGFDH",
      "include_colab_link": true
    },
    "kernelspec": {
      "name": "python3",
      "display_name": "Python 3"
    },
    "language_info": {
      "name": "python"
    }
  },
  "cells": [
    {
      "cell_type": "markdown",
      "metadata": {
        "id": "view-in-github",
        "colab_type": "text"
      },
      "source": [
        "<a href=\"https://colab.research.google.com/github/TonyGlimm/Letterboxd_Rating/blob/main/TG_letterboxd_prepare_Data.ipynb\" target=\"_parent\"><img src=\"https://colab.research.google.com/assets/colab-badge.svg\" alt=\"Open In Colab\"/></a>"
      ]
    },
    {
      "cell_type": "code",
      "source": [
        "import numpy as np\n",
        "import pandas as pd\n",
        "from google.colab import drive\n",
        "drive.mount('drive', force_remount=True)\n",
        "from pathlib import Path"
      ],
      "metadata": {
        "colab": {
          "base_uri": "https://localhost:8080/"
        },
        "id": "cQANhZ7me5LE",
        "outputId": "57924d0f-595f-437d-bc0b-4171b3e82055"
      },
      "execution_count": 1,
      "outputs": [
        {
          "output_type": "stream",
          "name": "stdout",
          "text": [
            "Mounted at drive\n"
          ]
        }
      ]
    },
    {
      "cell_type": "code",
      "execution_count": 2,
      "metadata": {
        "id": "TpMwfix3evSC"
      },
      "outputs": [],
      "source": [
        "movie_DF_temp = pd.read_csv('drive/My Drive/Colab Notebooks/data/new_movie_db.csv')\n",
        "user_DF = pd.read_csv('drive/My Drive/Colab Notebooks/data/user_ratings.csv')"
      ]
    },
    {
      "cell_type": "code",
      "source": [
        "users = user_DF['lb_username'].unique()"
      ],
      "metadata": {
        "id": "VUVRGP4sgSSU"
      },
      "execution_count": 3,
      "outputs": []
    },
    {
      "cell_type": "code",
      "source": [
        "#movie_DF.head()\n",
        "#movie_DF.info()"
      ],
      "metadata": {
        "id": "amNXGADCNIpx"
      },
      "execution_count": 4,
      "outputs": []
    },
    {
      "cell_type": "code",
      "source": [
        "movie_DF = movie_DF_temp.copy(deep=True)\n",
        "movie_DF = movie_DF.drop_duplicates(subset=['Title'])"
      ],
      "metadata": {
        "id": "7vBm5OJGM5QB"
      },
      "execution_count": 5,
      "outputs": []
    },
    {
      "cell_type": "code",
      "source": [
        "#movie_uni_DF = pd.DataFrame(movie_DF['Title'].unique()) # this creates a new dataframe which only has unique movies. only the titles not more information - dont need this one anymore since I now use the originally movie_DF and just drop duplicates according to the subset Title"
      ],
      "metadata": {
        "id": "-FHFDVLHsWYj"
      },
      "execution_count": 6,
      "outputs": []
    },
    {
      "cell_type": "markdown",
      "source": [
        "### next step is to sort the ratings of each user to the according movie title. each user ranking should have an own column. the column should be named ranking_'username' and should hold the individual ranking. lets try with one user manually and then create a for loop which goes over all users. I will start with a user with many ratings. like behaind"
      ],
      "metadata": {
        "id": "_11Or0bytwzL"
      }
    },
    {
      "cell_type": "code",
      "source": [
        "#movie_uni_DF.columns = ['Title'] # renaming the columns"
      ],
      "metadata": {
        "id": "1ch3gE0ItUs6"
      },
      "execution_count": 7,
      "outputs": []
    },
    {
      "cell_type": "code",
      "source": [
        "user_DF.head()"
      ],
      "metadata": {
        "colab": {
          "base_uri": "https://localhost:8080/",
          "height": 206
        },
        "id": "msKRGBwRAXyr",
        "outputId": "717fb5b7-9626-4ca2-f1fe-546355254c91"
      },
      "execution_count": 8,
      "outputs": [
        {
          "output_type": "execute_result",
          "data": {
            "text/plain": [
              "                           Title  User_Rating     lb_username\n",
              "0  Transformers: The Last Knight          1.0  24framesofnick\n",
              "1            10 Cloverfield Lane          4.5  24framesofnick\n",
              "2                           Prey          4.0  24framesofnick\n",
              "3  Teen Titans Go! To the Movies          3.5  24framesofnick\n",
              "4                       Predator          4.0  24framesofnick"
            ],
            "text/html": [
              "\n",
              "  <div id=\"df-74df02d2-cbb9-4a9b-b0fc-80023431d8d4\">\n",
              "    <div class=\"colab-df-container\">\n",
              "      <div>\n",
              "<style scoped>\n",
              "    .dataframe tbody tr th:only-of-type {\n",
              "        vertical-align: middle;\n",
              "    }\n",
              "\n",
              "    .dataframe tbody tr th {\n",
              "        vertical-align: top;\n",
              "    }\n",
              "\n",
              "    .dataframe thead th {\n",
              "        text-align: right;\n",
              "    }\n",
              "</style>\n",
              "<table border=\"1\" class=\"dataframe\">\n",
              "  <thead>\n",
              "    <tr style=\"text-align: right;\">\n",
              "      <th></th>\n",
              "      <th>Title</th>\n",
              "      <th>User_Rating</th>\n",
              "      <th>lb_username</th>\n",
              "    </tr>\n",
              "  </thead>\n",
              "  <tbody>\n",
              "    <tr>\n",
              "      <th>0</th>\n",
              "      <td>Transformers: The Last Knight</td>\n",
              "      <td>1.0</td>\n",
              "      <td>24framesofnick</td>\n",
              "    </tr>\n",
              "    <tr>\n",
              "      <th>1</th>\n",
              "      <td>10 Cloverfield Lane</td>\n",
              "      <td>4.5</td>\n",
              "      <td>24framesofnick</td>\n",
              "    </tr>\n",
              "    <tr>\n",
              "      <th>2</th>\n",
              "      <td>Prey</td>\n",
              "      <td>4.0</td>\n",
              "      <td>24framesofnick</td>\n",
              "    </tr>\n",
              "    <tr>\n",
              "      <th>3</th>\n",
              "      <td>Teen Titans Go! To the Movies</td>\n",
              "      <td>3.5</td>\n",
              "      <td>24framesofnick</td>\n",
              "    </tr>\n",
              "    <tr>\n",
              "      <th>4</th>\n",
              "      <td>Predator</td>\n",
              "      <td>4.0</td>\n",
              "      <td>24framesofnick</td>\n",
              "    </tr>\n",
              "  </tbody>\n",
              "</table>\n",
              "</div>\n",
              "      <button class=\"colab-df-convert\" onclick=\"convertToInteractive('df-74df02d2-cbb9-4a9b-b0fc-80023431d8d4')\"\n",
              "              title=\"Convert this dataframe to an interactive table.\"\n",
              "              style=\"display:none;\">\n",
              "        \n",
              "  <svg xmlns=\"http://www.w3.org/2000/svg\" height=\"24px\"viewBox=\"0 0 24 24\"\n",
              "       width=\"24px\">\n",
              "    <path d=\"M0 0h24v24H0V0z\" fill=\"none\"/>\n",
              "    <path d=\"M18.56 5.44l.94 2.06.94-2.06 2.06-.94-2.06-.94-.94-2.06-.94 2.06-2.06.94zm-11 1L8.5 8.5l.94-2.06 2.06-.94-2.06-.94L8.5 2.5l-.94 2.06-2.06.94zm10 10l.94 2.06.94-2.06 2.06-.94-2.06-.94-.94-2.06-.94 2.06-2.06.94z\"/><path d=\"M17.41 7.96l-1.37-1.37c-.4-.4-.92-.59-1.43-.59-.52 0-1.04.2-1.43.59L10.3 9.45l-7.72 7.72c-.78.78-.78 2.05 0 2.83L4 21.41c.39.39.9.59 1.41.59.51 0 1.02-.2 1.41-.59l7.78-7.78 2.81-2.81c.8-.78.8-2.07 0-2.86zM5.41 20L4 18.59l7.72-7.72 1.47 1.35L5.41 20z\"/>\n",
              "  </svg>\n",
              "      </button>\n",
              "      \n",
              "  <style>\n",
              "    .colab-df-container {\n",
              "      display:flex;\n",
              "      flex-wrap:wrap;\n",
              "      gap: 12px;\n",
              "    }\n",
              "\n",
              "    .colab-df-convert {\n",
              "      background-color: #E8F0FE;\n",
              "      border: none;\n",
              "      border-radius: 50%;\n",
              "      cursor: pointer;\n",
              "      display: none;\n",
              "      fill: #1967D2;\n",
              "      height: 32px;\n",
              "      padding: 0 0 0 0;\n",
              "      width: 32px;\n",
              "    }\n",
              "\n",
              "    .colab-df-convert:hover {\n",
              "      background-color: #E2EBFA;\n",
              "      box-shadow: 0px 1px 2px rgba(60, 64, 67, 0.3), 0px 1px 3px 1px rgba(60, 64, 67, 0.15);\n",
              "      fill: #174EA6;\n",
              "    }\n",
              "\n",
              "    [theme=dark] .colab-df-convert {\n",
              "      background-color: #3B4455;\n",
              "      fill: #D2E3FC;\n",
              "    }\n",
              "\n",
              "    [theme=dark] .colab-df-convert:hover {\n",
              "      background-color: #434B5C;\n",
              "      box-shadow: 0px 1px 3px 1px rgba(0, 0, 0, 0.15);\n",
              "      filter: drop-shadow(0px 1px 2px rgba(0, 0, 0, 0.3));\n",
              "      fill: #FFFFFF;\n",
              "    }\n",
              "  </style>\n",
              "\n",
              "      <script>\n",
              "        const buttonEl =\n",
              "          document.querySelector('#df-74df02d2-cbb9-4a9b-b0fc-80023431d8d4 button.colab-df-convert');\n",
              "        buttonEl.style.display =\n",
              "          google.colab.kernel.accessAllowed ? 'block' : 'none';\n",
              "\n",
              "        async function convertToInteractive(key) {\n",
              "          const element = document.querySelector('#df-74df02d2-cbb9-4a9b-b0fc-80023431d8d4');\n",
              "          const dataTable =\n",
              "            await google.colab.kernel.invokeFunction('convertToInteractive',\n",
              "                                                     [key], {});\n",
              "          if (!dataTable) return;\n",
              "\n",
              "          const docLinkHtml = 'Like what you see? Visit the ' +\n",
              "            '<a target=\"_blank\" href=https://colab.research.google.com/notebooks/data_table.ipynb>data table notebook</a>'\n",
              "            + ' to learn more about interactive tables.';\n",
              "          element.innerHTML = '';\n",
              "          dataTable['output_type'] = 'display_data';\n",
              "          await google.colab.output.renderOutput(dataTable, element);\n",
              "          const docLink = document.createElement('div');\n",
              "          docLink.innerHTML = docLinkHtml;\n",
              "          element.appendChild(docLink);\n",
              "        }\n",
              "      </script>\n",
              "    </div>\n",
              "  </div>\n",
              "  "
            ]
          },
          "metadata": {},
          "execution_count": 8
        }
      ]
    },
    {
      "cell_type": "code",
      "source": [
        "for user in users:            #loop over all users\n",
        "#user= 'behaind'\n",
        "  movie_DF[user] =np.nan  \n",
        "  for movie in movie_DF['Title']: #loop over all movies\n",
        "    index1 = user_DF.loc[(user_DF['Title']==movie)&(user_DF['lb_username']== user)].index.values #find index of movie where lb_username is user (from the outer for loop)\n",
        "    # turns out that index1 is an array with only 1 value. its kinda the result of the multi-conditional loc which is designed this way because it could return multiple index. so i will just have to use the first entry of it \n",
        "\n",
        "    if len(index1) ==1: #had to create this because it would throw an error if there is no index 0 (which means this user didnt rate the current)\n",
        "      rating_temp = user_DF.loc[index1[0], 'User_Rating']\n",
        "    else:\n",
        "      rating_temp = np.nan\n",
        "\n",
        "\n",
        "    index2 = movie_DF.loc[movie_DF['Title']==movie].index.values\n",
        "\n",
        "    movie_DF.at[index2[0], user] = rating_temp"
      ],
      "metadata": {
        "id": "ahvpyfXUMJLQ"
      },
      "execution_count": 9,
      "outputs": []
    },
    {
      "cell_type": "markdown",
      "source": [
        "# Backup"
      ],
      "metadata": {
        "id": "pFyZtnXFMdSl"
      }
    },
    {
      "cell_type": "code",
      "source": [
        "#for user in users:            #loop over all users\n",
        "\n",
        "\n",
        "#movie_DF['behaind'] =np.nan  \n",
        "#for movie in movie_DF['Title']: #loop over all movies\n",
        "#  index1 = user_DF.loc[(user_DF['Title']==movie)&(user_DF['lb_username']== 'behaind')].index.values #find index of movie where lb_username is user (from the outer for loop)\n",
        "  # turns out that index1 is an array with only 1 value. its kinda the result of the multi-conditional loc which is designed this way because it could return multiple index. so i will just have to use the first entry of it \n",
        "\n",
        "#  if len(index1) ==1: #had to create this because it would throw an error if there is no index 0 (which means this user didnt rate the current)\n",
        "#    rating_temp = user_DF.loc[index1[0], 'User_Rating']\n",
        "#  else:\n",
        "#    rating_temp = np.nan\n",
        "\n",
        "\n",
        "#  index2 = movie_DF.loc[movie_DF['Title']==movie].index.values\n",
        "\n",
        "#  movie_DF.at[index2[0], 'behaind'] = rating_temp\n",
        "\n",
        "\n",
        "\n"
      ],
      "metadata": {
        "id": "9JKbljqOsdLl"
      },
      "execution_count": 10,
      "outputs": []
    },
    {
      "cell_type": "code",
      "source": [
        "movie_DF.head()"
      ],
      "metadata": {
        "colab": {
          "base_uri": "https://localhost:8080/",
          "height": 206
        },
        "id": "a7YeFlz-KMcO",
        "outputId": "54c65606-c164-40a2-d52e-a855ef26c785"
      },
      "execution_count": 11,
      "outputs": [
        {
          "output_type": "execute_result",
          "data": {
            "text/plain": [
              "                           Title  Average_Rating Release_Year  \\\n",
              "0  Transformers: The Last Knight            1.89         2017   \n",
              "1            10 Cloverfield Lane            3.57         2016   \n",
              "2                           Prey            3.70         2022   \n",
              "3  Teen Titans Go! To the Movies            3.27         2018   \n",
              "4                       Predator            3.78         1987   \n",
              "\n",
              "                            Director  \\\n",
              "0                        Michael Bay   \n",
              "1                   Dan Trachtenberg   \n",
              "2                   Dan Trachtenberg   \n",
              "3  Aaron Horvath, Peter Rida Michail   \n",
              "4                     John McTiernan   \n",
              "\n",
              "                                                Cast  24framesofnick  \\\n",
              "0  ['Mark Wahlberg', 'Josh Duhamel', 'Stanley Tuc...             1.0   \n",
              "1  ['Mary Elizabeth Winstead', 'John Goodman', 'J...             4.5   \n",
              "2  ['Amber Midthunder', 'Dakota Beavers', 'Dane D...             4.0   \n",
              "3  ['Michael Bolton', 'Scott Menville', 'Khary Pa...             3.5   \n",
              "4  ['Arnold Schwarzenegger', 'Carl Weathers', 'El...             4.0   \n",
              "\n",
              "   swaiborr  behaind  schaffrillas  \n",
              "0       NaN      2.0           NaN  \n",
              "1       NaN      3.5           3.5  \n",
              "2       NaN      2.0           NaN  \n",
              "3       NaN      NaN           NaN  \n",
              "4       NaN      4.0           NaN  "
            ],
            "text/html": [
              "\n",
              "  <div id=\"df-1448bfcc-1467-4dc1-a235-76080009b7ac\">\n",
              "    <div class=\"colab-df-container\">\n",
              "      <div>\n",
              "<style scoped>\n",
              "    .dataframe tbody tr th:only-of-type {\n",
              "        vertical-align: middle;\n",
              "    }\n",
              "\n",
              "    .dataframe tbody tr th {\n",
              "        vertical-align: top;\n",
              "    }\n",
              "\n",
              "    .dataframe thead th {\n",
              "        text-align: right;\n",
              "    }\n",
              "</style>\n",
              "<table border=\"1\" class=\"dataframe\">\n",
              "  <thead>\n",
              "    <tr style=\"text-align: right;\">\n",
              "      <th></th>\n",
              "      <th>Title</th>\n",
              "      <th>Average_Rating</th>\n",
              "      <th>Release_Year</th>\n",
              "      <th>Director</th>\n",
              "      <th>Cast</th>\n",
              "      <th>24framesofnick</th>\n",
              "      <th>swaiborr</th>\n",
              "      <th>behaind</th>\n",
              "      <th>schaffrillas</th>\n",
              "    </tr>\n",
              "  </thead>\n",
              "  <tbody>\n",
              "    <tr>\n",
              "      <th>0</th>\n",
              "      <td>Transformers: The Last Knight</td>\n",
              "      <td>1.89</td>\n",
              "      <td>2017</td>\n",
              "      <td>Michael Bay</td>\n",
              "      <td>['Mark Wahlberg', 'Josh Duhamel', 'Stanley Tuc...</td>\n",
              "      <td>1.0</td>\n",
              "      <td>NaN</td>\n",
              "      <td>2.0</td>\n",
              "      <td>NaN</td>\n",
              "    </tr>\n",
              "    <tr>\n",
              "      <th>1</th>\n",
              "      <td>10 Cloverfield Lane</td>\n",
              "      <td>3.57</td>\n",
              "      <td>2016</td>\n",
              "      <td>Dan Trachtenberg</td>\n",
              "      <td>['Mary Elizabeth Winstead', 'John Goodman', 'J...</td>\n",
              "      <td>4.5</td>\n",
              "      <td>NaN</td>\n",
              "      <td>3.5</td>\n",
              "      <td>3.5</td>\n",
              "    </tr>\n",
              "    <tr>\n",
              "      <th>2</th>\n",
              "      <td>Prey</td>\n",
              "      <td>3.70</td>\n",
              "      <td>2022</td>\n",
              "      <td>Dan Trachtenberg</td>\n",
              "      <td>['Amber Midthunder', 'Dakota Beavers', 'Dane D...</td>\n",
              "      <td>4.0</td>\n",
              "      <td>NaN</td>\n",
              "      <td>2.0</td>\n",
              "      <td>NaN</td>\n",
              "    </tr>\n",
              "    <tr>\n",
              "      <th>3</th>\n",
              "      <td>Teen Titans Go! To the Movies</td>\n",
              "      <td>3.27</td>\n",
              "      <td>2018</td>\n",
              "      <td>Aaron Horvath, Peter Rida Michail</td>\n",
              "      <td>['Michael Bolton', 'Scott Menville', 'Khary Pa...</td>\n",
              "      <td>3.5</td>\n",
              "      <td>NaN</td>\n",
              "      <td>NaN</td>\n",
              "      <td>NaN</td>\n",
              "    </tr>\n",
              "    <tr>\n",
              "      <th>4</th>\n",
              "      <td>Predator</td>\n",
              "      <td>3.78</td>\n",
              "      <td>1987</td>\n",
              "      <td>John McTiernan</td>\n",
              "      <td>['Arnold Schwarzenegger', 'Carl Weathers', 'El...</td>\n",
              "      <td>4.0</td>\n",
              "      <td>NaN</td>\n",
              "      <td>4.0</td>\n",
              "      <td>NaN</td>\n",
              "    </tr>\n",
              "  </tbody>\n",
              "</table>\n",
              "</div>\n",
              "      <button class=\"colab-df-convert\" onclick=\"convertToInteractive('df-1448bfcc-1467-4dc1-a235-76080009b7ac')\"\n",
              "              title=\"Convert this dataframe to an interactive table.\"\n",
              "              style=\"display:none;\">\n",
              "        \n",
              "  <svg xmlns=\"http://www.w3.org/2000/svg\" height=\"24px\"viewBox=\"0 0 24 24\"\n",
              "       width=\"24px\">\n",
              "    <path d=\"M0 0h24v24H0V0z\" fill=\"none\"/>\n",
              "    <path d=\"M18.56 5.44l.94 2.06.94-2.06 2.06-.94-2.06-.94-.94-2.06-.94 2.06-2.06.94zm-11 1L8.5 8.5l.94-2.06 2.06-.94-2.06-.94L8.5 2.5l-.94 2.06-2.06.94zm10 10l.94 2.06.94-2.06 2.06-.94-2.06-.94-.94-2.06-.94 2.06-2.06.94z\"/><path d=\"M17.41 7.96l-1.37-1.37c-.4-.4-.92-.59-1.43-.59-.52 0-1.04.2-1.43.59L10.3 9.45l-7.72 7.72c-.78.78-.78 2.05 0 2.83L4 21.41c.39.39.9.59 1.41.59.51 0 1.02-.2 1.41-.59l7.78-7.78 2.81-2.81c.8-.78.8-2.07 0-2.86zM5.41 20L4 18.59l7.72-7.72 1.47 1.35L5.41 20z\"/>\n",
              "  </svg>\n",
              "      </button>\n",
              "      \n",
              "  <style>\n",
              "    .colab-df-container {\n",
              "      display:flex;\n",
              "      flex-wrap:wrap;\n",
              "      gap: 12px;\n",
              "    }\n",
              "\n",
              "    .colab-df-convert {\n",
              "      background-color: #E8F0FE;\n",
              "      border: none;\n",
              "      border-radius: 50%;\n",
              "      cursor: pointer;\n",
              "      display: none;\n",
              "      fill: #1967D2;\n",
              "      height: 32px;\n",
              "      padding: 0 0 0 0;\n",
              "      width: 32px;\n",
              "    }\n",
              "\n",
              "    .colab-df-convert:hover {\n",
              "      background-color: #E2EBFA;\n",
              "      box-shadow: 0px 1px 2px rgba(60, 64, 67, 0.3), 0px 1px 3px 1px rgba(60, 64, 67, 0.15);\n",
              "      fill: #174EA6;\n",
              "    }\n",
              "\n",
              "    [theme=dark] .colab-df-convert {\n",
              "      background-color: #3B4455;\n",
              "      fill: #D2E3FC;\n",
              "    }\n",
              "\n",
              "    [theme=dark] .colab-df-convert:hover {\n",
              "      background-color: #434B5C;\n",
              "      box-shadow: 0px 1px 3px 1px rgba(0, 0, 0, 0.15);\n",
              "      filter: drop-shadow(0px 1px 2px rgba(0, 0, 0, 0.3));\n",
              "      fill: #FFFFFF;\n",
              "    }\n",
              "  </style>\n",
              "\n",
              "      <script>\n",
              "        const buttonEl =\n",
              "          document.querySelector('#df-1448bfcc-1467-4dc1-a235-76080009b7ac button.colab-df-convert');\n",
              "        buttonEl.style.display =\n",
              "          google.colab.kernel.accessAllowed ? 'block' : 'none';\n",
              "\n",
              "        async function convertToInteractive(key) {\n",
              "          const element = document.querySelector('#df-1448bfcc-1467-4dc1-a235-76080009b7ac');\n",
              "          const dataTable =\n",
              "            await google.colab.kernel.invokeFunction('convertToInteractive',\n",
              "                                                     [key], {});\n",
              "          if (!dataTable) return;\n",
              "\n",
              "          const docLinkHtml = 'Like what you see? Visit the ' +\n",
              "            '<a target=\"_blank\" href=https://colab.research.google.com/notebooks/data_table.ipynb>data table notebook</a>'\n",
              "            + ' to learn more about interactive tables.';\n",
              "          element.innerHTML = '';\n",
              "          dataTable['output_type'] = 'display_data';\n",
              "          await google.colab.output.renderOutput(dataTable, element);\n",
              "          const docLink = document.createElement('div');\n",
              "          docLink.innerHTML = docLinkHtml;\n",
              "          element.appendChild(docLink);\n",
              "        }\n",
              "      </script>\n",
              "    </div>\n",
              "  </div>\n",
              "  "
            ]
          },
          "metadata": {},
          "execution_count": 11
        }
      ]
    },
    {
      "cell_type": "code",
      "source": [
        "movie_DF.to_csv(\"drive/My Drive/Colab Notebooks/data/movie_db_with_ratings.csv\",index=False, header=True)"
      ],
      "metadata": {
        "id": "OkUOimTLKNif"
      },
      "execution_count": 12,
      "outputs": []
    },
    {
      "cell_type": "code",
      "source": [
        ""
      ],
      "metadata": {
        "id": "Ob5Xn9ZyKspX"
      },
      "execution_count": 12,
      "outputs": []
    },
    {
      "cell_type": "code",
      "source": [
        ""
      ],
      "metadata": {
        "id": "HxtN_NqVr__Z"
      },
      "execution_count": 12,
      "outputs": []
    }
  ]
}