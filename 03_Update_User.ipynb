{
  "nbformat": 4,
  "nbformat_minor": 0,
  "metadata": {
    "colab": {
      "provenance": [],
      "authorship_tag": "ABX9TyMJWXeFlhT7IpiU6mozMsGD"
    },
    "kernelspec": {
      "name": "python3",
      "display_name": "Python 3"
    },
    "language_info": {
      "name": "python"
    }
  },
  "cells": [
    {
      "cell_type": "code",
      "execution_count": 26,
      "metadata": {
        "colab": {
          "base_uri": "https://localhost:8080/"
        },
        "id": "nMD1E_QzdSZK",
        "outputId": "66d6013b-bf50-4503-a2a3-4c0104b32de9"
      },
      "outputs": [
        {
          "output_type": "stream",
          "name": "stdout",
          "text": [
            "Mounted at drive\n"
          ]
        }
      ],
      "source": [
        "from bs4 import BeautifulSoup\n",
        "import requests\n",
        "from tqdm import tqdm\n",
        "import numpy as np\n",
        "import pandas as pd\n",
        "from google.colab import drive\n",
        "drive.mount('drive', force_remount=True)\n",
        "from pathlib import Path\n",
        "import lxml\n",
        "_domain = 'https://letterboxd.com'\n",
        "import math"
      ]
    },
    {
      "cell_type": "code",
      "source": [
        "def transform_stars(starstring):\n",
        "    \"\"\"\n",
        "    Transforms star rating into float value\n",
        "    \"\"\"\n",
        "    stars = {\n",
        "        \"★\": 1,\n",
        "        \"★★\": 2,\n",
        "        \"★★★\": 3,\n",
        "        \"★★★★\": 4,\n",
        "        \"★★★★★\": 5,\n",
        "        \"½\": 0.5,\n",
        "        \"★½\": 1.5,\n",
        "        \"★★½\": 2.5,\n",
        "        \"★★★½\": 3.5,\n",
        "        \"★★★★½\": 4.5\n",
        "    }\n",
        "    try:\n",
        "        return stars[starstring]\n",
        "    except:\n",
        "        return np.nan"
      ],
      "metadata": {
        "id": "fK_El8cweQZ1"
      },
      "execution_count": 27,
      "outputs": []
    },
    {
      "cell_type": "code",
      "source": [
        "def get_page_num(user):\n",
        "\n",
        "\n",
        "  link = 'https://letterboxd.com/'+user+'/films/ratings/'\n",
        "  \n",
        "  response = requests.get(link)\n",
        "  if response.status_code == 200:\n",
        "    #print('Response Success!')\n",
        "    pass\n",
        "  elif response.status_code ==404:\n",
        "    print(\"not found.\")\n",
        "\n",
        "  soup = BeautifulSoup(response.content, 'lxml')\n",
        "\n",
        "  body = soup.find(\"body\")\n",
        "\n",
        "  try:\n",
        "        page_link = soup.findAll(\"li\", attrs={\"class\", \"paginate-page\"})[-1]\n",
        "        num_page = int(page_link.find(\"a\").text.replace(',', ''))\n",
        "        display_name = body.find(\"section\", attrs={\"id\": \"profile-header\"}).find(\"h1\", attrs={\"class\": \"title-3\"}).text.strip()\n",
        "  except IndexError:\n",
        "        num_page = 1\n",
        "        display_name = None\n",
        "\n",
        "  print('Number of pages for user ' + \"'\" +user +\"'\" + ' is ' +str(num_page))\n",
        "\n",
        "  return num_page"
      ],
      "metadata": {
        "id": "S6LoRtVadoKW"
      },
      "execution_count": 28,
      "outputs": []
    },
    {
      "cell_type": "code",
      "source": [
        "def get_data(username,page_diff):\n",
        "  '''\n",
        "  main function\n",
        "  needs username and returns movie_DF and user_DF (Pandas DF) with information from 1 user which has all of the informations\n",
        "  '''\n",
        "  film_names =[]\n",
        "  ratings =[]\n",
        "  release_years =[]\n",
        "  directors =[]\n",
        "  casts=[]\n",
        "  #genres = []\n",
        "  #themes = []\n",
        "  average_ratings=[]\n",
        "  URLs =[]\n",
        "  lb_users = []\n",
        "\n",
        "  #num_pages = get_page_num(username)\n",
        "  num_pages = page_diff\n",
        "  if num_pages > 800:\n",
        "    num_pages=800             #having problems with users that have to many entries ****TO DO****\n",
        "\n",
        "  for i in range(num_pages):\n",
        "    link = 'https://letterboxd.com/'+username+'/films/ratings/page/'+str(i+1)\n",
        "    #print(link)\n",
        "    \n",
        "\n",
        "    response = requests.get(link)\n",
        "    if response.status_code == 200:\n",
        "      print('Scraping page '+str(i+1)+' of '+str(num_pages))\n",
        "    elif response.status_code ==404:\n",
        "      print(\"not found.\")\n",
        "    soup = BeautifulSoup(response.content, 'lxml')\n",
        "    table = soup.find('ul', class_='poster-list')\n",
        "    films = table.find_all('li')\n",
        "\n",
        "    for film in tqdm(films):\n",
        "      #finding film name\n",
        "      panel = film.find('div').find('img')\n",
        "      film_name = panel['alt']\n",
        "\n",
        "      #try to find the rating of a film if possible and converting to float\n",
        "      try:\n",
        "        stars = film.find('span', class_='rating').get_text().strip()\n",
        "        rating = transform_stars(stars)\n",
        "      except:\n",
        "        rating =np.nan\n",
        "      \n",
        "      # find each film \"card\" from the grid of the user list go through each film and pull the data from the individual film page\n",
        "      film_card = film.find('div').get('data-target-link')\n",
        "      film_page = _domain + film_card #theoratically we have a '/' too much in there but it works. no reason for cleanup right now\n",
        "      filmget = requests.get(film_page)\n",
        "      film_soup = BeautifulSoup(filmget.content, 'lxml')\n",
        "\n",
        "      release_year = film_soup.find('meta', attrs={'property':'og:title'}).attrs['content'][-5:-1]\n",
        "      director = film_soup.find('meta', attrs={'name':'twitter:data1'}).attrs['content']\n",
        "      \n",
        "      #find cast\n",
        "      try:\n",
        "        cast = [ line.contents[0] for line in film_soup.find('div', attrs={'id':'tab-cast'}).find_all('a')]\n",
        "\n",
        "        #remove all the 'Show all' tags if they are present\n",
        "        cast =[i for i in cast if i != 'Show All...']\n",
        "        cast = cast[0:5]                                                        #started with 8 and reduced to 5 now\n",
        "      except:\n",
        "        cast =np.nan     \n",
        "\n",
        "      try:\n",
        "        average_rating = float(film_soup.find('meta', attrs={'name':'twitter:data2'}).attrs['content'][:4])\n",
        "      except:\n",
        "        average_rating = np.nan\n",
        "\n",
        "      #try:  \n",
        "       #genre = [ line.contents[0] for line in film_soup.find('div', attrs={'id':'tab-genres'}).find_all('a')]\n",
        "        #genre =[i for i in genre if i != 'Show All...']\n",
        "        #turns out that we also have \"themes\" which are under genre. putting the themes in as genres bloats up my features,\n",
        "        #so I will split it here into genres and themes. on average every movie has 3 themes so that is where I split. solving this via the scraping is a To-Do \n",
        "\n",
        "        #theme= genre[3:]\n",
        "        #genre = genre[:3]\n",
        "        \n",
        "      #except:\n",
        "        #genre = np.nan  \n",
        "        #theme=np.nan\n",
        "      URL= _domain+film_card\n",
        "\n",
        "      film_soup.decompose\n",
        "\n",
        "      film_names.append(film_name)\n",
        "      release_years.append(release_year)\n",
        "      directors.append(director)\n",
        "      casts.append(cast)\n",
        "      average_ratings.append(average_rating)\n",
        "      URLs.append(_domain+film_card)\n",
        "      lb_users.append(username)\n",
        "      ratings.append(rating)\n",
        "      #genres.append(genre)\n",
        "      #themes.append(theme)\n",
        "\n",
        "    movie_DF =pd.DataFrame({'Title': film_names, 'Average_Rating': average_ratings, 'Release_Year': release_years, 'Director': directors,'Cast':casts})#, 'Genres': genres, 'Themes':themes})\n",
        "    user_DF = pd.DataFrame({'Title': film_names,'User_Rating': ratings, 'lb_username':lb_users})\n",
        "\n",
        "  return movie_DF, user_DF"
      ],
      "metadata": {
        "id": "72jwQCaYdxtA"
      },
      "execution_count": 29,
      "outputs": []
    },
    {
      "cell_type": "code",
      "source": [
        "path_to_movie_db = 'drive/My Drive/Colab Notebooks/data/movie_db.csv' \n",
        "path_to_user_db =  'drive/My Drive/Colab Notebooks/data/user_ratings.csv'\n",
        "path1 = Path(path_to_movie_db)\n",
        "path2 = Path(path_to_user_db)"
      ],
      "metadata": {
        "id": "q3Ntg7a6d1Lo"
      },
      "execution_count": 30,
      "outputs": []
    },
    {
      "cell_type": "code",
      "source": [
        "users = ['behaind']"
      ],
      "metadata": {
        "id": "S1RR7b1Ed4bt"
      },
      "execution_count": 34,
      "outputs": []
    },
    {
      "cell_type": "code",
      "source": [
        "if Path(path_to_user_db).is_file():\n",
        "  old_user_df = pd.read_csv(path_to_user_db)\n",
        "  old_users = list(old_user_df['lb_username']) \n",
        "  old_users = set(old_users) #changing it to set because they dont allow duplicates\n",
        "  for user in users:\n",
        "    if user in old_users: \n",
        "      num_movies = len(old_user_df[old_user_df['lb_username']==user]) #number of movies in df from the last pull\n",
        "      old_num_pages = math.ceil((num_movies/18)) #number of pages from the last pull\n",
        "      new_num_pages = get_page_num(user)\n",
        "      page_diff=new_num_pages-old_num_pages\n",
        "      if  page_diff >0:\n",
        "        temp_movie_df, temp_user_df = get_data(user,page_diff)  #main function\n",
        "        temp_movie_df.to_csv(\"drive/My Drive/Colab Notebooks/data/movie_db.csv\",index=False, header=False, mode='a')\n",
        "        print('movie file saved')\n",
        "        temp_user_df.to_csv(\"drive/My Drive/Colab Notebooks/data/user_ratings.csv\",index=False, header=False, mode='a')\n",
        "        print('user file saved')\n",
        "      else: print('no new data') #still could be that there is some new data but i will just disregard to small updates\n",
        "\n",
        "\n",
        "      #old_user_df.drop(old_user_df[old_user_df['lb_username']==user].index, inplace=True) #if the user is already in the old user dataset drop them"
      ],
      "metadata": {
        "id": "oyvNrVtjd_yW",
        "colab": {
          "base_uri": "https://localhost:8080/"
        },
        "outputId": "55d2cbc0-1997-4001-fdb8-c4af59d38062"
      },
      "execution_count": 35,
      "outputs": [
        {
          "output_type": "stream",
          "name": "stdout",
          "text": [
            "Number of pages for user 'behaind' is 142\n",
            "no new data\n"
          ]
        }
      ]
    }
  ]
}