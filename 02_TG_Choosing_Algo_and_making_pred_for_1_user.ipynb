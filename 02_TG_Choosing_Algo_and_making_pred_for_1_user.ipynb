{
  "nbformat": 4,
  "nbformat_minor": 0,
  "metadata": {
    "colab": {
      "provenance": [],
      "mount_file_id": "1uIP07HZbTLSunHTlq8K_XFsgmGWYLHML",
      "authorship_tag": "ABX9TyO4DOLFjOy0vFesLg/uMEf5"
    },
    "kernelspec": {
      "name": "python3",
      "display_name": "Python 3"
    },
    "language_info": {
      "name": "python"
    }
  },
  "cells": [
    {
      "cell_type": "code",
      "execution_count": null,
      "metadata": {
        "colab": {
          "base_uri": "https://localhost:8080/"
        },
        "id": "7S39z_m6nlJU",
        "outputId": "0288bf97-a79f-445b-ecc2-28dc49d994ff"
      },
      "outputs": [
        {
          "output_type": "stream",
          "name": "stdout",
          "text": [
            "Mounted at drive\n",
            "Looking in indexes: https://pypi.org/simple, https://us-python.pkg.dev/colab-wheels/public/simple/\n",
            "Requirement already satisfied: surprise in /usr/local/lib/python3.7/dist-packages (0.1)\n",
            "Requirement already satisfied: scikit-surprise in /usr/local/lib/python3.7/dist-packages (from surprise) (1.1.1)\n",
            "Requirement already satisfied: numpy>=1.11.2 in /usr/local/lib/python3.7/dist-packages (from scikit-surprise->surprise) (1.21.6)\n",
            "Requirement already satisfied: scipy>=1.0.0 in /usr/local/lib/python3.7/dist-packages (from scikit-surprise->surprise) (1.7.3)\n",
            "Requirement already satisfied: joblib>=0.11 in /usr/local/lib/python3.7/dist-packages (from scikit-surprise->surprise) (1.1.0)\n",
            "Requirement already satisfied: six>=1.10.0 in /usr/local/lib/python3.7/dist-packages (from scikit-surprise->surprise) (1.15.0)\n"
          ]
        }
      ],
      "source": [
        "import numpy as np\n",
        "import pandas as pd\n",
        "from google.colab import drive\n",
        "drive.mount('drive', force_remount=True)\n",
        "from pathlib import Path\n",
        "from tqdm import tqdm\n",
        "\n",
        "!pip install surprise\n",
        "\n",
        "from surprise import SVD #so surprise is a python scikit for building and analyzing rocommender systems - from first research this is exactly what Im going for\n",
        "from surprise import Dataset\n",
        "from surprise import Reader\n",
        "from surprise.model_selection import cross_validate"
      ]
    },
    {
      "cell_type": "code",
      "source": [
        "user_df = pd.read_csv('drive/My Drive/Colab Notebooks/data/user_ratings.csv')\n",
        "path_to_master ='drive/My Drive/Colab Notebooks/data/predictions.csv'\n",
        "if Path(path_to_master).is_file():\n",
        "  old_master= pd.read_csv(path_to_master)\n",
        "else:\n",
        "  old_master = None"
      ],
      "metadata": {
        "id": "-yCp5kdSnxj6"
      },
      "execution_count": null,
      "outputs": []
    },
    {
      "cell_type": "code",
      "source": [
        "algo = SVD()\n",
        "reader = Reader(rating_scale=(1, 10))"
      ],
      "metadata": {
        "id": "AFYZDlPFoPoc"
      },
      "execution_count": null,
      "outputs": []
    },
    {
      "cell_type": "code",
      "source": [
        "# have to give each movie and username a unique id \n",
        "user_df['user_id']= pd.factorize(user_df.lb_username)[0]+1 #I really have to save this user \n",
        "user_df['movie_id']= pd.factorize(user_df.Title)[0]+1\n",
        "user_df.shape"
      ],
      "metadata": {
        "id": "JXyw6BS4p5W6",
        "colab": {
          "base_uri": "https://localhost:8080/"
        },
        "outputId": "a0d8ca56-da5e-4299-d3e1-36b6cc0a4cc6"
      },
      "execution_count": null,
      "outputs": [
        {
          "output_type": "execute_result",
          "data": {
            "text/plain": [
              "(100683, 5)"
            ]
          },
          "metadata": {},
          "execution_count": 52
        }
      ]
    },
    {
      "cell_type": "code",
      "source": [
        "print(user_df['lb_username'].nunique())"
      ],
      "metadata": {
        "colab": {
          "base_uri": "https://localhost:8080/"
        },
        "id": "16lFaA73PuR2",
        "outputId": "f3f92758-88f8-4ef8-8198-4ab4fa0fdab4"
      },
      "execution_count": null,
      "outputs": [
        {
          "output_type": "stream",
          "name": "stdout",
          "text": [
            "38\n"
          ]
        }
      ]
    },
    {
      "cell_type": "code",
      "source": [
        "# print(user_df['user_id'].nunique())"
      ],
      "metadata": {
        "colab": {
          "base_uri": "https://localhost:8080/"
        },
        "id": "2oUrgefpui3R",
        "outputId": "8094f01e-5b54-4c4b-e268-57c02d84ab7b"
      },
      "execution_count": null,
      "outputs": [
        {
          "output_type": "stream",
          "name": "stdout",
          "text": [
            "38\n"
          ]
        }
      ]
    },
    {
      "cell_type": "code",
      "source": [
        "data=Dataset.load_from_df(user_df[['user_id','movie_id','User_Rating']], reader)"
      ],
      "metadata": {
        "id": "JdhfOxSgoQc1"
      },
      "execution_count": null,
      "outputs": []
    },
    {
      "cell_type": "code",
      "source": [
        "#cross_validate(algo, data, measures=['RMSE', 'MAE'], cv=3, verbose=True)"
      ],
      "metadata": {
        "id": "TA2s-Mv-8Mp6"
      },
      "execution_count": null,
      "outputs": []
    },
    {
      "cell_type": "code",
      "source": [
        "trainSet = data.build_full_trainset()"
      ],
      "metadata": {
        "id": "3VmcD36Qg0br"
      },
      "execution_count": null,
      "outputs": []
    },
    {
      "cell_type": "code",
      "source": [
        "algo.fit(trainSet)"
      ],
      "metadata": {
        "colab": {
          "base_uri": "https://localhost:8080/"
        },
        "id": "cP1b3MoJ6HDK",
        "outputId": "bd73f7a5-7558-40f4-a035-309f427eb02e"
      },
      "execution_count": null,
      "outputs": [
        {
          "output_type": "execute_result",
          "data": {
            "text/plain": [
              "<surprise.prediction_algorithms.matrix_factorization.SVD at 0x7fcf2d162750>"
            ]
          },
          "metadata": {},
          "execution_count": 59
        }
      ]
    },
    {
      "cell_type": "code",
      "source": [
        "def make_pred(uid):\n",
        "  \"\"\"\n",
        "  make predictions for one user.\n",
        "  needs int of user\n",
        "  returns predictions\n",
        "  \"\"\"\n",
        "  #print('making predictions')\n",
        "  anti_testset_user = []              #create empty DF\n",
        "  targetUser = uid                    \n",
        "  fillValue=trainSet.global_mean      #have to fill missing values with something. I decided on global mean for now\n",
        "  user_item_ratings=trainSet.ur[targetUser]\n",
        "  user_items = [item for (item,_) in (user_item_ratings)] #here we have all the ratings from that user\n",
        "  ratings = trainSet.all_ratings()\n",
        "  for iid in trainSet.all_items():    #surprise generator function to iterate over all items\n",
        "    if(iid not in user_items):\n",
        "      anti_testset_user.append((trainSet.to_raw_uid(targetUser),trainSet.to_raw_iid(iid),fillValue))\n",
        "  predictions = algo.test(anti_testset_user)\n",
        "  # print(fillValue) #just out of curiosity\n",
        "  return predictions"
      ],
      "metadata": {
        "id": "BzYz7XtyTIYj"
      },
      "execution_count": null,
      "outputs": []
    },
    {
      "cell_type": "code",
      "source": [
        "def sort_into_master(pred, pred_master_new,user_id):\n",
        "  user_id = user_id+1\n",
        "  print(user_id)\n",
        "  df=pred_master.copy(deep=True)\n",
        "  user= user_df.loc[user_df['user_id'] == user_id,'lb_username'].iloc[0]\n",
        "  #print('sorting ' + user+ 'into master df')\n",
        "  #go over each movie(iid) of the predicted DF. put the est for that user on the fitting spot(next to the movie)\n",
        "  for iid in pred['iid']:\n",
        "    rating_temp = pred.loc[pred.loc[pred['iid']==iid].index.values[0], 'est'] #so the position has to be found we are looking for the 'est' of the current iid in the prediction DF now we have the est as a temp which we will save into the master DF\n",
        "    df.loc[df['movie_id']==iid, user] =rating_temp                  #seems like this is the more clean solution. dont need an temp  index for it\n",
        "\n",
        "  return df"
      ],
      "metadata": {
        "id": "TiqS7k3keXS_"
      },
      "execution_count": 72,
      "outputs": []
    },
    {
      "cell_type": "code",
      "source": [
        "pred_master = user_df[['Title', 'movie_id']]\n",
        "pred_master = pred_master.drop_duplicates(subset=['Title']) # first we drop duplicates. because this df is based on the user df it has duplicate movies\n",
        "pred_master=pred_master.reset_index(drop=True)"
      ],
      "metadata": {
        "id": "MVVQNXbYs5Oy"
      },
      "execution_count": null,
      "outputs": []
    },
    {
      "cell_type": "code",
      "source": [
        "username = 'swaiborr'\n",
        "user_id= user_df.loc[user_df['lb_username'] == username,'user_id'].iloc[0]-1 #-1 because i have +1 in my sort into master ( i have that there because )\n",
        "user_id"
      ],
      "metadata": {
        "colab": {
          "base_uri": "https://localhost:8080/"
        },
        "id": "cTILuRxUE3Ld",
        "outputId": "7c248478-29a9-4ca9-d185-354161b11c3d"
      },
      "execution_count": 75,
      "outputs": [
        {
          "output_type": "execute_result",
          "data": {
            "text/plain": [
              "30"
            ]
          },
          "metadata": {},
          "execution_count": 75
        }
      ]
    },
    {
      "cell_type": "code",
      "source": [
        "predictions = make_pred(user_id)  ## custom function which creates anti_testset of 1 user, makes predictions for that user\n",
        "pred = pd.DataFrame(predictions) #put predictions in a DF which with we can work\n",
        "pred.sort_values(by=['iid'],inplace=True,ascending = True)\n",
        "#print('user id ' + str(user_id))\n",
        "pred_temp = sort_into_master(pred, pred_master, user_id)\n",
        "pred_swaiborr = pred_temp"
      ],
      "metadata": {
        "id": "cVqEkJH2FLsW",
        "colab": {
          "base_uri": "https://localhost:8080/"
        },
        "outputId": "68854369-d1e9-419f-f79e-7ec2e173fe29"
      },
      "execution_count": 76,
      "outputs": [
        {
          "output_type": "stream",
          "name": "stdout",
          "text": [
            "31\n"
          ]
        }
      ]
    },
    {
      "cell_type": "code",
      "source": [
        "pred_swaiborr['prediction'] = pred_swaiborr['swaiborr']\n",
        "pred_swaiborr = pred_swaiborr.drop('swaiborr',axis=1)"
      ],
      "metadata": {
        "id": "1O8N9B0-JPX2"
      },
      "execution_count": 82,
      "outputs": []
    },
    {
      "cell_type": "code",
      "source": [
        "pred_swaiborr['Title'].head()"
      ],
      "metadata": {
        "colab": {
          "base_uri": "https://localhost:8080/"
        },
        "id": "UTXTzWYlJdRU",
        "outputId": "6b886fb2-cc60-4f4f-8371-b11cfeb339fb"
      },
      "execution_count": 97,
      "outputs": [
        {
          "output_type": "execute_result",
          "data": {
            "text/plain": [
              "1595                        Lady Bird\n",
              "506                The Social Network\n",
              "7336                          Stalker\n",
              "4622         The Silence of the Lambs\n",
              "3661    Twin Peaks: Fire Walk with Me\n",
              "Name: Title, dtype: object"
            ]
          },
          "metadata": {},
          "execution_count": 97
        }
      ]
    },
    {
      "cell_type": "code",
      "source": [
        "pred_swaiborr.sort_values(by=['prediction'],inplace=True,ascending = False)"
      ],
      "metadata": {
        "id": "oyYYk6SXJAv-"
      },
      "execution_count": 91,
      "outputs": []
    },
    {
      "cell_type": "code",
      "source": [
        "recommendations = pred_swaiborr[['Title','prediction']].head(20) #get the first 20 entries for recommendations\n",
        "print(recommendations)"
      ],
      "metadata": {
        "colab": {
          "base_uri": "https://localhost:8080/"
        },
        "id": "aAIRsxf0JlSs",
        "outputId": "1cfe6815-8fcf-41d3-e572-b9bda3606436"
      },
      "execution_count": 99,
      "outputs": [
        {
          "output_type": "stream",
          "name": "stdout",
          "text": [
            "                              Title  prediction\n",
            "1595                      Lady Bird    4.661904\n",
            "506              The Social Network    4.618121\n",
            "7336                        Stalker    4.614533\n",
            "4622       The Silence of the Lambs    4.613595\n",
            "3661  Twin Peaks: Fire Walk with Me    4.611639\n",
            "7296                          Yi Yi    4.610677\n",
            "4874           Inglourious Basterds    4.602510\n",
            "5670              Stop Making Sense    4.601483\n",
            "3011             Mad Max: Fury Road    4.590376\n",
            "974      Portrait of a Lady on Fire    4.578213\n",
            "1442                    Shoplifters    4.543491\n",
            "3545                      Gone Girl    4.540415\n",
            "4514                  Spirited Away    4.536904\n",
            "1813               Mulholland Drive    4.534052\n",
            "1505                 First Reformed    4.527676\n",
            "2511                          Carol    4.525250\n",
            "3442                   Barry Lyndon    4.507114\n",
            "4407          2001: A Space Odyssey    4.501528\n",
            "5604           In the Mood for Love    4.499509\n",
            "1002                 The Lighthouse    4.492679\n"
          ]
        }
      ]
    },
    {
      "cell_type": "code",
      "source": [
        "pred_swaiborr.to_csv('drive/My Drive/Colab Notebooks/data/prediction_swaiborr.csv',index=False, header=True)"
      ],
      "metadata": {
        "id": "8NDXj-JoFcxZ"
      },
      "execution_count": 79,
      "outputs": []
    },
    {
      "cell_type": "markdown",
      "source": [
        "so i checked my recommendations (for my user on letterboxd). I noticed that I didnt rate Dune which is a great example. I really liked the movie back then and would say that I would rate it a 4.5 or 5. the algo expects a rating of 3.92 as of today (4.9.2022) If we look at the dune movie it has a rating of 4.0. my average rating right now is 3.84. so this puts the rating right in the middle between my average and the average of the movie overall which seems fitting"
      ],
      "metadata": {
        "id": "J6Er9euwYakb"
      }
    }
  ]
}